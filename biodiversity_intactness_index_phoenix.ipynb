{
 "cells": [
  {
   "cell_type": "code",
   "execution_count": 1,
   "id": "fe24499c-e4f2-4784-aff0-17db35be6ad0",
   "metadata": {
    "tags": []
   },
   "outputs": [],
   "source": [
    "import numpy as np\n",
    "import matplotlib.pyplot as plt\n",
    "import geopandas as gpd\n",
    "import rioxarray as rioxr\n",
    "from shapely.geometry import Polygon\n",
    "\n",
    "from pystac_client import Client  # To access STAC catalogs\n",
    "\n",
    "import planetary_computer  # To sign items from the MPC STAC catalog \n",
    "\n",
    "from IPython.display import Image  # To nicely display images"
   ]
  },
  {
   "cell_type": "code",
   "execution_count": null,
   "id": "20da62cf-0807-4528-9908-354899cbf603",
   "metadata": {},
   "outputs": [],
   "source": []
  }
 ],
 "metadata": {
  "kernelspec": {
   "display_name": "Anaconda 3 (EDS220)",
   "language": "python",
   "name": "eds220-env"
  },
  "language_info": {
   "codemirror_mode": {
    "name": "ipython",
    "version": 3
   },
   "file_extension": ".py",
   "mimetype": "text/x-python",
   "name": "python",
   "nbconvert_exporter": "python",
   "pygments_lexer": "ipython3",
   "version": "3.11.4"
  }
 },
 "nbformat": 4,
 "nbformat_minor": 5
}
